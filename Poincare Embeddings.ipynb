{
 "cells": [
  {
   "cell_type": "code",
   "execution_count": 1,
   "metadata": {},
   "outputs": [],
   "source": [
    "import torch\n",
    "import numpy as np\n",
    "import random\n",
    "from torch import nn"
   ]
  },
  {
   "attachments": {
    "image.png": {
     "image/png": "[encoded data removed]"
    }
   },
   "cell_type": "markdown",
   "metadata": {},
   "source": [
    "We will try our own toy transative closure to test their methods. We will use the Stanford Encyclopedia of Philosophy ontology kept by the Indiana Philosophy Ontology project (https://inpho.cogs.indiana.edu/).\n",
    "\n",
    "We'll use a subtree that looks like this:\n",
    "\n",
    "![image.png](attachment:image.png)"
   ]
  },
  {
   "cell_type": "code",
   "execution_count": 2,
   "metadata": {},
   "outputs": [],
   "source": [
    "vocab_dict = {\n",
    "    0: 'philosophy of mind',\n",
    "    1: 'artificial intelligence',\n",
    "    2: 'computation and representation',\n",
    "    3: 'computationalism',\n",
    "    4: 'connectionism',\n",
    "    5: 'dynamic system',\n",
    "    6: 'thinking machine',\n",
    "    7: 'consciousness',\n",
    "    8: 'aspects of consciousness',\n",
    "    9: 'consciousness and mental content',\n",
    "    10: 'consciousness and science',\n",
    "    11: 'qualia'}"
   ]
  },
  {
   "cell_type": "markdown",
   "metadata": {},
   "source": [
    "The transitive closure matrix should then look like this:"
   ]
  },
  {
   "cell_type": "code",
   "execution_count": 3,
   "metadata": {},
   "outputs": [],
   "source": [
    "trans_closure = np.array([\n",
    "    [1, 1, 1, 1, 1, 1, 1, 1, 1, 1, 1, 1],\n",
    "    [1, 1, 1, 1, 1, 1, 1, 0, 0, 0, 0, 0],\n",
    "    [1, 1, 1, 0, 0, 0, 0, 0, 0, 0, 0, 0],\n",
    "    [1, 1, 0, 1, 0, 0, 0, 0, 0, 0, 0, 0],\n",
    "    [1, 1, 0, 0, 1, 0, 0, 0, 0, 0, 0, 0],\n",
    "    [1, 1, 0, 0, 0, 1, 0, 0, 0, 0, 0, 0],\n",
    "    [1, 1, 0, 0, 0, 0, 1, 0, 0, 0, 0, 0],\n",
    "    [1, 0, 0, 0, 0, 0, 0, 1, 1, 1, 1, 1],\n",
    "    [1, 0, 0, 0, 0, 0, 0, 1, 1, 0, 0, 0],\n",
    "    [1, 0, 0, 0, 0, 0, 0, 1, 0, 1, 0, 0],\n",
    "    [1, 0, 0, 0, 0, 0, 0, 1, 0, 0, 1, 0],\n",
    "    [1, 0, 0, 0, 0, 0, 0, 1, 0, 0, 0, 1],])"
   ]
  },
  {
   "cell_type": "code",
   "execution_count": 11,
   "metadata": {},
   "outputs": [],
   "source": [
    "# Global variables\n",
    "vocab_size = trans_closure.shape[0]\n",
    "num_neg = 3\n",
    "embed_dim = 2\n",
    "stability = 1e-6\n",
    "\n",
    "# Embeddings\n",
    "embeddings = nn.Embedding(vocab_size, embed_dim)\n",
    "embeddings.weight = nn.Parameter(\n",
    "    torch.FloatTensor(vocab_size, embed_dim)\n",
    "        .uniform_(-0.001, 0.001),  # Paper recommended initialization\n",
    "    requires_grad=False)"
   ]
  },
  {
   "cell_type": "code",
   "execution_count": 70,
   "metadata": {},
   "outputs": [],
   "source": [
    "# Data preparation\n",
    "def neg_samples(u, v):\n",
    "    N = [u]  # They add u to this set (eq6) but that doesn't seem to make sense?\n",
    "             # I guess it adds a one to be summed in the denominator\n",
    "    pos_ixs = [ix for ix in np.nonzero(trans_closure[u, :])[0].tolist()\n",
    "               if ix != u]\n",
    "    neg_ixs = [ix for ix in range(vocab_size)\n",
    "               if (ix not in pos_ixs and ix != u)]\n",
    "    num_negs = min(len(neg_ixs), num_neg)\n",
    "    if num_negs > 0:\n",
    "        N += random.sample(neg_ixs, num_negs)\n",
    "    return N\n",
    "\n",
    "def epoch_data():\n",
    "    u, v = np.nonzero(trans_closure)\n",
    "    pos_pairs = [(a, b) for a, b in list(zip(u.tolist(), v.tolist()))\n",
    "                 if a != b]\n",
    "    # randomize order each epoch\n",
    "    random.shuffle(pos_pairs)\n",
    "    return list(zip(pos_pairs,\n",
    "                    [neg_samples(u, v) for u, v in pos_pairs]))"
   ]
  },
  {
   "cell_type": "code",
   "execution_count": 71,
   "metadata": {},
   "outputs": [],
   "source": [
    "# Math funcs\n",
    "def arcosh(x):\n",
    "    return torch.log(x + torch.sqrt(x**2 - 1))\n",
    "\n",
    "def poincare_distance(u, v):\n",
    "    uu = u.dot(u)\n",
    "    vv = v.dot(v)\n",
    "    u_min_v = u - v\n",
    "    uv = u_min_v.dot(u_min_v)\n",
    "    alpha = (1 - uu)\n",
    "    beta = (1 - vv)\n",
    "    gamma = (1 + 2 * (uv / (alpha * beta + stability)))\n",
    "    distance = arcosh(gamma)\n",
    "    return distance"
   ]
  },
  {
   "cell_type": "code",
   "execution_count": 72,
   "metadata": {},
   "outputs": [],
   "source": [
    "# Loss function\n",
    "def loss(data):\n",
    "    loss = 0.\n",
    "    for pair, negs in data:\n",
    "        u_ix, v_ix = pair\n",
    "        u = embeddings(torch.LongTensor([u_ix]))\n",
    "        v = embeddings(torch.LongTensor([v_ix]))\n",
    "        neg_sum = 0.\n",
    "        for v_prime_ix in negs:\n",
    "            v_prime = embeddings(torch.LongTensor([v_prime_ix]))\n",
    "            neg_sum += torch.exp(-1 * poincare_distance(u, v_prime))\n",
    "        loss += -torch.log(torch.exp(-1 * poincare_distance(u, v)) / neg_sum)\n",
    "    return loss"
   ]
  },
  {
   "cell_type": "code",
   "execution_count": 73,
   "metadata": {},
   "outputs": [
    {
     "data": {
      "text/plain": [
       "Variable containing:\n",
       "-40.2466\n",
       "[torch.FloatTensor of size 1]"
      ]
     },
     "execution_count": 73,
     "metadata": {},
     "output_type": "execute_result"
    }
   ],
   "source": [
    "e1 = epoch_data()\n",
    "loss(e1)"
   ]
  },
  {
   "cell_type": "code",
   "execution_count": null,
   "metadata": {},
   "outputs": [],
   "source": []
  }
 ],
 "metadata": {
  "kernelspec": {
   "display_name": "Environment (conda_py35)",
   "language": "python",
   "name": "conda_py35"
  },
  "language_info": {
   "codemirror_mode": {
    "name": "ipython",
    "version": 3
   },
   "file_extension": ".py",
   "mimetype": "text/x-python",
   "name": "python",
   "nbconvert_exporter": "python",
   "pygments_lexer": "ipython3",
   "version": "3.5.4"
  }
 },
 "nbformat": 4,
 "nbformat_minor": 2
}
